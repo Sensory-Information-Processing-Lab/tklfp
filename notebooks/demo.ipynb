{
 "cells": [
  {
   "cell_type": "markdown",
   "metadata": {},
   "source": [
    "## Reproducing Original Demo\n",
    "We followed the original demo in the Mazzoni paper and we should see similar output to the original demo. However, The original demo does not have current, so we need to generate that on our own. \n",
    "This is how we followed the orogimal code:\n",
    "\n",
    "## "
   ]
  }
 ],
 "metadata": {
  "kernelspec": {
   "display_name": "Python 3.7.0 ('base')",
   "language": "python",
   "name": "python3"
  },
  "language_info": {
   "codemirror_mode": {
    "name": "ipython",
    "version": 3
   },
   "file_extension": ".py",
   "mimetype": "text/x-python",
   "name": "python",
   "nbconvert_exporter": "python",
   "pygments_lexer": "ipython3",
   "version": "3.7.0"
  },
  "orig_nbformat": 4,
  "vscode": {
   "interpreter": {
    "hash": "47ad893d9bbae0c62598086f5a110ee5f78edc1f13c90ce81b0834baba4fa3e1"
   }
  }
 },
 "nbformat": 4,
 "nbformat_minor": 2
}
